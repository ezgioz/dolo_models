{
 "cells": [
  {
   "cell_type": "markdown",
   "metadata": {},
   "source": [
    "# Sudden stop Models\n",
    "\n",
    "## Contractionary Depreciations"
   ]
  },
  {
   "cell_type": "markdown",
   "metadata": {},
   "source": [
    "This notebook shall help you to replicate \"From Sudden Stops to Fisherian Deflation Quantitative Theory and Policy\" by Anton Korinek and Enrique Mendoza (2013)"
   ]
  },
  {
   "cell_type": "markdown",
   "metadata": {},
   "source": [
    "## The setup\n",
    "\n",
    "Following Mendoza [2010] and Korinek [2011], a model of small open economy(SOE) featuring a continuum of infinitely lived, identical agents facing a CRRA utility function. There is no production, we don’t make a distinction between households, firms or entrepreneurs.\n",
    "\n",
    "\n",
    "\\begin{equation} \n",
    "E{}_{0}=\n",
    " \\left\\{ \\sum_{t=0}^{\\infty}\\beta^{t}u(c_{t})\\right\\}\n",
    "\\end{equation}\n",
    "\n",
    "The representative agent maximizes the expected future discounted value of consumption where $\\beta$ is the subjective discount factor. There are two types of goods available in the economy: traded ones, and non-traded ones. The aggregator for consumption will be of the CES  type.\n",
    "\n",
    "\\begin{equation} \n",
    "c_{t}=\\left[\\alpha\\left(c_{t}^{T}\\right)^{-\\mu}+\\left(1-\\alpha\\right)\\left(c_{t}^{N}\\right)^{-\\mu}\\right]^{-1/\\mu}\n",
    "\\end{equation}\n",
    "\n",
    "where $\\mu>-1$ , $\\alpha\\in(0,1)$ and $1/(1+\\mu)$ is the elasticity of substitution between tradable and nontradable goods. Each period household receives an endowment  $\\left(y^{T},y^{N}\\right)$ and decides how much to consume and chooses the level of bond holdings according given budget constraint:\n",
    "\n",
    "\\begin{equation} \n",
    "\\frac{ b_{t+1}}{R}+c_{t}^{T}+p_{t}^{N}c_{t}^{N}=b_{t}+y_{t}^{T}+p_{t}^{N}y_{t}^{N}\n",
    "\\end{equation}\n",
    "\n",
    "The price of tradable goods are determined in the world market and taken as numeraire such that price of nontradables $p^N$ is the relative price of non-tradable goods in terms of tradable goods. The menu of assets available for saving purposes is restricted to a one period, non-state-contingent bond denominated in tradables which hold the price $R$ with $R=(1+r)$ where $r$ is the interest rate determined exogenously.\n",
    "\n",
    "Access to international financial markets is imperfect. We assume that creditors restrict loans such that the value of debt does not exceed a fraction of tradable income $\\kappa^T$ plus a fraction $\\kappa^N$ of non-tradable income. \n",
    "\n",
    "\\begin{equation}  \n",
    "\\frac{b_{t+1}}{R}\\geq-\\left(\\kappa^{N}p_{t}^{N}y_{t}^{N}+\\kappa^{T}y^{T}\\right)\n",
    "\\end{equation}\n",
    "\n",
    "- Equilibrium\n",
    "The household chooses the stochastic process ${\\left\\{ c_{t}^{T},c_{t}^{N},b_{t+1}\\right\\} _{t\\geq0}}$ to maximize the expected present discounted value of utility subject to budget and credot constraints taking $b_{0}$ and $p_{t}^{N}$ as given. The first order conditions are:\n",
    "\n",
    "\\begin{equation}\n",
    "\\lambda_{t}=u_{T}\\left(t\\right)\n",
    "\\end{equation}\n",
    "\n",
    "\\begin{equation} \n",
    "p_{t}^{N}=\\frac{(1-\\alpha)}{\\alpha}\\left(\\frac{c_{t}^{T}}{c_{t}^{N}}\\right)^{\\mu+1}\n",
    "\\end{equation}\n",
    "\n",
    "\\begin{equation} \n",
    "\\lambda_{t}=\\beta R E_{t}\\lambda_{t+1}+\\eta_{t}\n",
    "\\end{equation}\n",
    "\n",
    "\\begin{equation} \n",
    "\\frac{b_{t+1}}{R} \\geq-\\left(\\kappa^{N}p_{t}^{N}y_{t}^{N}+\\kappa^{T}y^{T}\\right)\\quad \\textrm{with equality if }\\quad \\eta_{t}>0\n",
    "\\end{equation}\n",
    "\n",
    "\n",
    "Since household are identical and non-traded goods should be consumed in the domestic market , market clearing conditions are:\n",
    "\n",
    "\\begin{equation}\n",
    "c_{t}^{N}=y_{t}^{N}\n",
    "\\end{equation}\n",
    "\n",
    "\\begin{equation}\n",
    "c_{t}^{T}=b_{t}+y_{t}^{T}- \\frac{b_{t+1}}{R} \n",
    "\\end{equation}\n",
    "\n",
    "Here importantly we see that, in the equilibrium version of the credit constraint $c_{t}^{T}$ enters into the constraint. Price of nontradable goods is a function of both tradable and nontradable consumption such that in case of a binding constraint, a reduction of $c_{t}^{T}$ generates a fall in the price of nontradable consumption which by equation \n",
    "\n",
    "> $\\frac{b_{t+1}}{R} \\geq-\\left(\\kappa^{N}p_{t}^{N}y_{t}^{N}+\\kappa^{T}y^{T}\\right)$\n",
    "\n",
    "tightens the credit constraint further. When constraint is loose there is no amplification and price price of nontradables adjust in response to such changes.\n",
    "\n",
    "\n",
    "\n",
    "\n",
    "For more detailes we refer the reader to the page of Korinek\n",
    "http://www.korinek.com/suddenstops"
   ]
  },
  {
   "cell_type": "markdown",
   "metadata": {},
   "source": [
    "## Importing necessary libraries\n"
   ]
  },
  {
   "cell_type": "code",
   "execution_count": 1,
   "metadata": {},
   "outputs": [],
   "source": [
    "path = Pkg.dir(\"Dolo\")\n",
    "import Dolo\n",
    "using AxisArrays"
   ]
  },
  {
   "cell_type": "markdown",
   "metadata": {},
   "source": [
    "## Writing the model"
   ]
  },
  {
   "cell_type": "code",
   "execution_count": 3,
   "metadata": {},
   "outputs": [],
   "source": [
    "fn = (\"https://raw.githubusercontent.com/ezgioz/dolo_models/ezgioz/sudden-stop-models/sudden_stop/sudden_stop_cd.yaml\");\n"
   ]
  },
  {
   "cell_type": "code",
   "execution_count": 4,
   "metadata": {
    "collapsed": true
   },
   "outputs": [],
   "source": [
    "model = Dolo.yaml_import(fn);"
   ]
  },
  {
   "cell_type": "markdown",
   "metadata": {},
   "source": [
    "### Characteristics of MC process used in our example:"
   ]
  },
  {
   "cell_type": "code",
   "execution_count": 5,
   "metadata": {},
   "outputs": [
    {
     "name": "stdout",
     "output_type": "stream",
     "text": [
      "[0.05 0.95; 0.05 0.95][1.94; 2.0]"
     ]
    }
   ],
   "source": [
    "#The process hasa transition probability matrix\n",
    "print(model.exogenous.transitions)\n",
    "# and values for two states: bad state & good state\n",
    "print(model.exogenous.values)\n"
   ]
  },
  {
   "cell_type": "markdown",
   "metadata": {},
   "source": [
    "Let us simulate the process\n"
   ]
  },
  {
   "cell_type": "code",
   "execution_count": 6,
   "metadata": {},
   "outputs": [
    {
     "data": {
      "image/png": "[encoded data removed]",
      "text/plain": [
       "PyPlot.Figure(PyObject <matplotlib.figure.Figure object at 0x7fc132306438>)"
      ]
     },
     "metadata": {},
     "output_type": "display_data"
    }
   ],
   "source": [
    "N= 1 # number  of simulations\n",
    "T=100 # periods of simulation\n",
    "hor= linspace(1, T, T)\n",
    "\n",
    "import PyPlot\n",
    "plt = PyPlot;\n",
    "\n",
    "fig = plt.figure(\"Sudden Stop Markov Chain\")\n",
    "sim_mc= Dolo.simulate(model.exogenous, N, T, 1)\n",
    "\n",
    "plt.plot(hor, sim_mc, color=\"blue\", alpha = .35, label =\"MC\")\n",
    "plt.legend()\n",
    "plt.xlabel(\"Horizon\");\n",
    "plt.title(\"Sudden Stop Markov Chain\");"
   ]
  },
  {
   "cell_type": "markdown",
   "metadata": {},
   "source": [
    "## Solving the model using time iteration routines"
   ]
  },
  {
   "cell_type": "markdown",
   "metadata": {},
   "source": [
    "The first domain gives a domain error so we start with smaller domain and enlarge the interval in several steps, using each time the previous solution as an inital"
   ]
  },
  {
   "cell_type": "code",
   "execution_count": 15,
   "metadata": {
    "scrolled": true
   },
   "outputs": [
    {
     "name": "stdout",
     "output_type": "stream",
     "text": [
      "------------------------------------------------------------------\n",
      "It    ηₙ=|xₙ-xₙ₋₁|    λₙ=ηₙ/ηₙ₋₁      Time            Newton steps\n",
      "------------------------------------------------------------------\n",
      "0     NaN             NaN             0.00e+00        0    \n"
     ]
    },
    {
     "name": "stderr",
     "output_type": "stream",
     "text": [
      "\u001b[1m\u001b[33mWARNING: \u001b[39m\u001b[22m\u001b[33mfilter(flt, itr) is deprecated, use Iterators.filter(flt, itr) instead.\u001b[39m\n",
      "Stacktrace:\n",
      " [1] \u001b[1mdepwarn\u001b[22m\u001b[22m\u001b[1m(\u001b[22m\u001b[22m::String, ::Symbol\u001b[1m)\u001b[22m\u001b[22m at \u001b[1m./deprecated.jl:70\u001b[22m\u001b[22m\n",
      " [2] \u001b[1mfilter\u001b[22m\u001b[22m\u001b[1m(\u001b[22m\u001b[22m::Function, ::Base.Generator{UnitRange{Int64},Dolo.##65#67{Dolo.DiscreteMarkovProcess,Int64}}\u001b[1m)\u001b[22m\u001b[22m at \u001b[1m./deprecated.jl:57\u001b[22m\u001b[22m\n",
      " [3] \u001b[1mget_integration_nodes\u001b[22m\u001b[22m\u001b[1m(\u001b[22m\u001b[22m::Dolo.DiscreteMarkovProcess, ::Int64\u001b[1m)\u001b[22m\u001b[22m at \u001b[1m/home/ezgi/.julia/v0.6/Dolo/src/numeric/processes.jl:418\u001b[22m\u001b[22m\n",
      " [4] \u001b[1meuler_residuals\u001b[22m\u001b[22m\u001b[1m(\u001b[22m\u001b[22m::Dolo.Model{Symbol(\"##756\")}, ::Dolo.DiscreteMarkovProcess, ::Array{Float64,2}, ::Array{Array{Float64,2},1}, ::Array{Float64,1}, ::Dolo.CachedDecisionRule{Dolo.CubicDR{Dolo.UnstructuredGrid{1},Dolo.CartesianGrid{1},2,1},Dolo.DiscreteMarkovProcess}\u001b[1m)\u001b[22m\u001b[22m at \u001b[1m/home/ezgi/.julia/v0.6/Dolo/src/algos/time_iteration.jl:31\u001b[22m\u001b[22m\n",
      " [5] \u001b[1meuler_residuals\u001b[22m\u001b[22m\u001b[1m(\u001b[22m\u001b[22m::Dolo.Model{Symbol(\"##756\")}, ::Dolo.DiscreteMarkovProcess, ::Array{Float64,2}, ::Array{Float64,2}, ::Array{Float64,1}, ::Dolo.CachedDecisionRule{Dolo.CubicDR{Dolo.UnstructuredGrid{1},Dolo.CartesianGrid{1},2,1},Dolo.DiscreteMarkovProcess}\u001b[1m)\u001b[22m\u001b[22m at \u001b[1m/home/ezgi/.julia/v0.6/Dolo/src/algos/time_iteration.jl:44\u001b[22m\u001b[22m\n",
      " [6] \u001b[1m#serial_solver#21\u001b[22m\u001b[22m\u001b[1m(\u001b[22m\u001b[22m::Int64, ::Bool, ::Int64, ::Float64, ::Function, ::Dolo.#fobj#214{Dolo.Model{Symbol(\"##756\")},Dolo.DiscreteMarkovProcess}, ::Array{Float64,2}, ::Array{Float64,2}, ::Array{Float64,2}\u001b[1m)\u001b[22m\u001b[22m at \u001b[1m/home/ezgi/.julia/v0.6/Dolo/src/numeric/newton.jl:94\u001b[22m\u001b[22m\n",
      " [7] \u001b[1m#time_iteration#211\u001b[22m\u001b[22m\u001b[1m(\u001b[22m\u001b[22m::Bool, ::Int64, ::Float64, ::Bool, ::Dict{Any,Any}, ::Function, ::Dolo.Model{Symbol(\"##756\")}, ::Dolo.DiscreteMarkovProcess, ::Dolo.CartesianGrid{1}, ::Dolo.ConstantDecisionRule{2}\u001b[1m)\u001b[22m\u001b[22m at \u001b[1m/home/ezgi/.julia/v0.6/Dolo/src/algos/time_iteration.jl:227\u001b[22m\u001b[22m\n",
      " [8] \u001b[1m(::Dolo.#kw##time_iteration)\u001b[22m\u001b[22m\u001b[1m(\u001b[22m\u001b[22m::Array{Any,1}, ::Dolo.#time_iteration, ::Dolo.Model{Symbol(\"##756\")}, ::Dolo.DiscreteMarkovProcess, ::Dolo.CartesianGrid{1}, ::Dolo.ConstantDecisionRule{2}\u001b[1m)\u001b[22m\u001b[22m at \u001b[1m./<missing>:0\u001b[22m\u001b[22m\n",
      " [9] \u001b[1m#time_iteration#215\u001b[22m\u001b[22m\u001b[1m(\u001b[22m\u001b[22m::Dict{Any,Any}, ::Array{Any,1}, ::Function, ::Dolo.Model{Symbol(\"##756\")}, ::Dolo.DiscreteMarkovProcess, ::Dolo.ConstantDecisionRule{2}\u001b[1m)\u001b[22m\u001b[22m at \u001b[1m/home/ezgi/.julia/v0.6/Dolo/src/algos/time_iteration.jl:256\u001b[22m\u001b[22m\n",
      " [10] \u001b[1m(::Dolo.#kw##time_iteration)\u001b[22m\u001b[22m\u001b[1m(\u001b[22m\u001b[22m::Array{Any,1}, ::Dolo.#time_iteration, ::Dolo.Model{Symbol(\"##756\")}, ::Dolo.DiscreteMarkovProcess, ::Dolo.ConstantDecisionRule{2}\u001b[1m)\u001b[22m\u001b[22m at \u001b[1m./<missing>:0\u001b[22m\u001b[22m\n",
      " [11] \u001b[1m#time_iteration#218\u001b[22m\u001b[22m\u001b[1m(\u001b[22m\u001b[22m::Dict{Any,Any}, ::Array{Any,1}, ::Function, ::Dolo.Model{Symbol(\"##756\")}\u001b[1m)\u001b[22m\u001b[22m at \u001b[1m/home/ezgi/.julia/v0.6/Dolo/src/algos/time_iteration.jl:276\u001b[22m\u001b[22m\n",
      " [12] \u001b[1m(::Dolo.#kw##time_iteration)\u001b[22m\u001b[22m\u001b[1m(\u001b[22m\u001b[22m::Array{Any,1}, ::Dolo.#time_iteration, ::Dolo.Model{Symbol(\"##756\")}\u001b[1m)\u001b[22m\u001b[22m at \u001b[1m./<missing>:0\u001b[22m\u001b[22m\n",
      " [13] \u001b[1minclude_string\u001b[22m\u001b[22m\u001b[1m(\u001b[22m\u001b[22m::String, ::String\u001b[1m)\u001b[22m\u001b[22m at \u001b[1m./loading.jl:515\u001b[22m\u001b[22m\n",
      " [14] \u001b[1minclude_string\u001b[22m\u001b[22m\u001b[1m(\u001b[22m\u001b[22m::Module, ::String, ::String\u001b[1m)\u001b[22m\u001b[22m at \u001b[1m/home/ezgi/.julia/v0.6/Compat/src/Compat.jl:464\u001b[22m\u001b[22m\n",
      " [15] \u001b[1mexecute_request\u001b[22m\u001b[22m\u001b[1m(\u001b[22m\u001b[22m::ZMQ.Socket, ::IJulia.Msg\u001b[1m)\u001b[22m\u001b[22m at \u001b[1m/home/ezgi/.julia/v0.6/IJulia/src/execute_request.jl:154\u001b[22m\u001b[22m\n",
      " [16] \u001b[1meventloop\u001b[22m\u001b[22m\u001b[1m(\u001b[22m\u001b[22m::ZMQ.Socket\u001b[1m)\u001b[22m\u001b[22m at \u001b[1m/home/ezgi/.julia/v0.6/IJulia/src/eventloop.jl:8\u001b[22m\u001b[22m\n",
      " [17] \u001b[1m(::IJulia.##14#17)\u001b[22m\u001b[22m\u001b[1m(\u001b[22m\u001b[22m\u001b[1m)\u001b[22m\u001b[22m at \u001b[1m./task.jl:335\u001b[22m\u001b[22m\n",
      "while loading In[15], in expression starting on line 2\n"
     ]
    },
    {
     "name": "stdout",
     "output_type": "stream",
     "text": [
      "1     6.57e-01        NaN             7.46e-02        6    \n",
      "2     1.50e-01        2.28e-01        4.28e-02        8    \n",
      "3     7.38e-02        4.93e-01        3.92e-02        6    \n",
      "4     4.46e-02        6.04e-01        2.46e-02        5    \n",
      "5     3.05e-02        6.85e-01        2.05e-02        4    \n",
      "6     2.25e-02        7.38e-01        2.95e-02        5    \n",
      "7     1.78e-02        7.89e-01        6.21e-02        5    \n",
      "8     1.44e-02        8.11e-01        5.09e-02        4    \n",
      "9     1.22e-02        8.47e-01        5.00e-02        5    \n",
      "10    1.05e-02        8.58e-01        5.63e-02        6    \n",
      "11    9.21e-03        8.79e-01        2.68e-02        4    \n",
      "12    8.11e-03        8.80e-01        2.55e-02        4    \n",
      "13    7.31e-03        9.01e-01        4.40e-02        4    \n",
      "14    6.62e-03        9.07e-01        2.13e-02        4    \n",
      "15    6.09e-03        9.19e-01        1.89e-02        4    \n",
      "16    5.62e-03        9.23e-01        1.78e-02        4    \n",
      "17    5.20e-03        9.27e-01        2.38e-02        3    \n",
      "18    4.82e-03        9.27e-01        2.78e-02        2    \n",
      "19    4.50e-03        9.32e-01        1.09e-02        2    \n",
      "20    4.21e-03        9.37e-01        1.08e-02        2    \n",
      "21    3.95e-03        9.39e-01        1.05e-02        2    \n",
      "22    3.72e-03        9.41e-01        1.03e-02        2    \n",
      "23    3.51e-03        9.43e-01        8.96e-03        2    \n",
      "24    3.31e-03        9.45e-01        1.64e-02        2    \n",
      "25    3.13e-03        9.46e-01        2.65e-02        2    \n",
      "26    2.97e-03        9.47e-01        1.73e-02        2    \n",
      "27    2.82e-03        9.49e-01        1.07e-02        2    \n",
      "28    2.67e-03        9.50e-01        9.40e-03        2    \n",
      "29    2.52e-03        9.40e-01        1.12e-02        2    \n",
      "30    1.97e-03        7.81e-01        1.08e-02        2    \n",
      "31    8.06e-04        4.10e-01        8.35e-03        1    \n",
      "32    2.32e-04        2.88e-01        1.32e-02        1    \n",
      "33    1.47e-04        6.33e-01        1.54e-02        1    \n",
      "34    6.50e-05        4.43e-01        5.82e-03        1    \n",
      "35    1.70e-05        2.62e-01        6.77e-03        1    \n",
      "36    4.21e-06        2.47e-01        1.20e-02        1    \n",
      "37    1.15e-06        2.74e-01        5.79e-03        1    \n",
      "38    0.00e+00        0.00e+00        1.14e-03        0    \n",
      "------------------------------------------------------------------\n"
     ]
    },
    {
     "data": {
      "text/plain": [
       "Results of Time Iteration Algorithm\n",
       " * Complementarities: true\n",
       " * Discretized Process type: Dolo.DiscreteMarkovProcess\n",
       " * Decision Rule type: Dolo.CubicDR{Dolo.UnstructuredGrid{1},Dolo.CartesianGrid{1},2,1}\n",
       " * Number of iterations: 38\n",
       " * Convergence: true\n",
       "   * |x - x'| < 1.0e-07: true\n"
      ]
     },
     "execution_count": 15,
     "metadata": {},
     "output_type": "execute_result"
    }
   ],
   "source": [
    "Dolo.set_calibration!(model, :minl, -0.9)\n",
    "sol = Dolo.time_iteration(model, verbose=true)"
   ]
  },
  {
   "cell_type": "code",
   "execution_count": 16,
   "metadata": {},
   "outputs": [
    {
     "name": "stdout",
     "output_type": "stream",
     "text": [
      "------------------------------------------------------------------\n",
      "It    ηₙ=|xₙ-xₙ₋₁|    λₙ=ηₙ/ηₙ₋₁      Time            Newton steps\n",
      "------------------------------------------------------------------\n",
      "0     NaN             NaN             0.00e+00        0    \n",
      "1     5.43e-02        NaN             2.76e-02        3    \n",
      "2     8.09e-04        1.49e-02        1.67e-02        3    \n",
      "3     5.10e-04        6.31e-01        1.13e-02        2    \n",
      "4     3.26e-04        6.39e-01        9.77e-03        2    \n",
      "5     2.45e-04        7.53e-01        1.08e-02        2    \n",
      "6     1.92e-04        7.82e-01        5.41e-03        1    \n"
     ]
    },
    {
     "name": "stderr",
     "output_type": "stream",
     "text": [
      "\u001b[1m\u001b[33mWARNING: \u001b[39m\u001b[22m\u001b[33mfilter(flt, itr) is deprecated, use Iterators.filter(flt, itr) instead.\u001b[39m\n",
      "Stacktrace:\n",
      " [1] \u001b[1mdepwarn\u001b[22m\u001b[22m\u001b[1m(\u001b[22m\u001b[22m::String, ::Symbol\u001b[1m)\u001b[22m\u001b[22m at \u001b[1m./deprecated.jl:70\u001b[22m\u001b[22m\n",
      " [2] \u001b[1mfilter\u001b[22m\u001b[22m\u001b[1m(\u001b[22m\u001b[22m::Function, ::Base.Generator{UnitRange{Int64},Dolo.##65#67{Dolo.DiscreteMarkovProcess,Int64}}\u001b[1m)\u001b[22m\u001b[22m at \u001b[1m./deprecated.jl:57\u001b[22m\u001b[22m\n",
      " [3] \u001b[1mget_integration_nodes\u001b[22m\u001b[22m\u001b[1m(\u001b[22m\u001b[22m::Dolo.DiscreteMarkovProcess, ::Int64\u001b[1m)\u001b[22m\u001b[22m at \u001b[1m/home/ezgi/.julia/v0.6/Dolo/src/numeric/processes.jl:418\u001b[22m\u001b[22m\n",
      " [4] \u001b[1meuler_residuals\u001b[22m\u001b[22m\u001b[1m(\u001b[22m\u001b[22m::Dolo.Model{Symbol(\"##756\")}, ::Dolo.DiscreteMarkovProcess, ::Array{Float64,2}, ::Array{Array{Float64,2},1}, ::Array{Float64,1}, ::Dolo.CachedDecisionRule{Dolo.CubicDR{Dolo.UnstructuredGrid{1},Dolo.CartesianGrid{1},2,1},Dolo.DiscreteMarkovProcess}\u001b[1m)\u001b[22m\u001b[22m at \u001b[1m/home/ezgi/.julia/v0.6/Dolo/src/algos/time_iteration.jl:31\u001b[22m\u001b[22m\n",
      " [5] \u001b[1meuler_residuals\u001b[22m\u001b[22m\u001b[1m(\u001b[22m\u001b[22m::Dolo.Model{Symbol(\"##756\")}, ::Dolo.DiscreteMarkovProcess, ::Array{Float64,2}, ::Array{Float64,2}, ::Array{Float64,1}, ::Dolo.CachedDecisionRule{Dolo.CubicDR{Dolo.UnstructuredGrid{1},Dolo.CartesianGrid{1},2,1},Dolo.DiscreteMarkovProcess}\u001b[1m)\u001b[22m\u001b[22m at \u001b[1m/home/ezgi/.julia/v0.6/Dolo/src/algos/time_iteration.jl:44\u001b[22m\u001b[22m\n",
      " [6] \u001b[1m#serial_solver#21\u001b[22m\u001b[22m\u001b[1m(\u001b[22m\u001b[22m::Int64, ::Bool, ::Int64, ::Float64, ::Function, ::Dolo.#fobj#214{Dolo.Model{Symbol(\"##756\")},Dolo.DiscreteMarkovProcess}, ::Array{Float64,2}, ::Array{Float64,2}, ::Array{Float64,2}\u001b[1m)\u001b[22m\u001b[22m at \u001b[1m/home/ezgi/.julia/v0.6/Dolo/src/numeric/newton.jl:94\u001b[22m\u001b[22m\n",
      " [7] \u001b[1m#time_iteration#211\u001b[22m\u001b[22m\u001b[1m(\u001b[22m\u001b[22m::Bool, ::Int64, ::Float64, ::Bool, ::Dict{Any,Any}, ::Function, ::Dolo.Model{Symbol(\"##756\")}, ::Dolo.DiscreteMarkovProcess, ::Dolo.CartesianGrid{1}, ::Dolo.CubicDR{Dolo.UnstructuredGrid{1},Dolo.CartesianGrid{1},2,1}\u001b[1m)\u001b[22m\u001b[22m at \u001b[1m/home/ezgi/.julia/v0.6/Dolo/src/algos/time_iteration.jl:227\u001b[22m\u001b[22m\n",
      " [8] \u001b[1m(::Dolo.#kw##time_iteration)\u001b[22m\u001b[22m\u001b[1m(\u001b[22m\u001b[22m::Array{Any,1}, ::Dolo.#time_iteration, ::Dolo.Model{Symbol(\"##756\")}, ::Dolo.DiscreteMarkovProcess, ::Dolo.CartesianGrid{1}, ::Dolo.CubicDR{Dolo.UnstructuredGrid{1},Dolo.CartesianGrid{1},2,1}\u001b[1m)\u001b[22m\u001b[22m at \u001b[1m./<missing>:0\u001b[22m\u001b[22m\n",
      " [9] \u001b[1m#time_iteration#215\u001b[22m\u001b[22m\u001b[1m(\u001b[22m\u001b[22m::Dict{Any,Any}, ::Array{Any,1}, ::Function, ::Dolo.Model{Symbol(\"##756\")}, ::Dolo.DiscreteMarkovProcess, ::Dolo.CubicDR{Dolo.UnstructuredGrid{1},Dolo.CartesianGrid{1},2,1}\u001b[1m)\u001b[22m\u001b[22m at \u001b[1m/home/ezgi/.julia/v0.6/Dolo/src/algos/time_iteration.jl:256\u001b[22m\u001b[22m\n",
      " [10] \u001b[1m(::Dolo.#kw##time_iteration)\u001b[22m\u001b[22m\u001b[1m(\u001b[22m\u001b[22m::Array{Any,1}, ::Dolo.#time_iteration, ::Dolo.Model{Symbol(\"##756\")}, ::Dolo.DiscreteMarkovProcess, ::Dolo.CubicDR{Dolo.UnstructuredGrid{1},Dolo.CartesianGrid{1},2,1}\u001b[1m)\u001b[22m\u001b[22m at \u001b[1m./<missing>:0\u001b[22m\u001b[22m\n",
      " [11] \u001b[1m#time_iteration#217\u001b[22m\u001b[22m\u001b[1m(\u001b[22m\u001b[22m::Dict{Any,Any}, ::Array{Any,1}, ::Function, ::Dolo.Model{Symbol(\"##756\")}, ::Dolo.CubicDR{Dolo.UnstructuredGrid{1},Dolo.CartesianGrid{1},2,1}\u001b[1m)\u001b[22m\u001b[22m at \u001b[1m/home/ezgi/.julia/v0.6/Dolo/src/algos/time_iteration.jl:269\u001b[22m\u001b[22m\n",
      " [12] \u001b[1m(::Dolo.#kw##time_iteration)\u001b[22m\u001b[22m\u001b[1m(\u001b[22m\u001b[22m::Array{Any,1}, ::Dolo.#time_iteration, ::Dolo.Model{Symbol(\"##756\")}, ::Dolo.CubicDR{Dolo.UnstructuredGrid{1},Dolo.CartesianGrid{1},2,1}\u001b[1m)\u001b[22m\u001b[22m at \u001b[1m./<missing>:0\u001b[22m\u001b[22m\n",
      " [13] \u001b[1minclude_string\u001b[22m\u001b[22m\u001b[1m(\u001b[22m\u001b[22m::String, ::String\u001b[1m)\u001b[22m\u001b[22m at \u001b[1m./loading.jl:515\u001b[22m\u001b[22m\n",
      " [14] \u001b[1minclude_string\u001b[22m\u001b[22m\u001b[1m(\u001b[22m\u001b[22m::Module, ::String, ::String\u001b[1m)\u001b[22m\u001b[22m at \u001b[1m/home/ezgi/.julia/v0.6/Compat/src/Compat.jl:464\u001b[22m\u001b[22m\n",
      " [15] \u001b[1mexecute_request\u001b[22m\u001b[22m\u001b[1m(\u001b[22m\u001b[22m::ZMQ.Socket, ::IJulia.Msg\u001b[1m)\u001b[22m\u001b[22m at \u001b[1m/home/ezgi/.julia/v0.6/IJulia/src/execute_request.jl:154\u001b[22m\u001b[22m\n",
      " [16] \u001b[1meventloop\u001b[22m\u001b[22m\u001b[1m(\u001b[22m\u001b[22m::ZMQ.Socket\u001b[1m)\u001b[22m\u001b[22m at \u001b[1m/home/ezgi/.julia/v0.6/IJulia/src/eventloop.jl:8\u001b[22m\u001b[22m\n",
      " [17] \u001b[1m(::IJulia.##14#17)\u001b[22m\u001b[22m\u001b[1m(\u001b[22m\u001b[22m\u001b[1m)\u001b[22m\u001b[22m at \u001b[1m./task.jl:335\u001b[22m\u001b[22m\n",
      "while loading In[16], in expression starting on line 3\n"
     ]
    },
    {
     "name": "stdout",
     "output_type": "stream",
     "text": [
      "7     1.54e-04        8.03e-01        1.60e-02        1    \n",
      "8     1.26e-04        8.16e-01        1.08e-02        1    \n",
      "9     1.06e-04        8.42e-01        8.72e-03        1    \n",
      "10    9.33e-05        8.82e-01        1.39e-02        1    \n",
      "11    8.09e-05        8.67e-01        1.50e-02        1    \n",
      "12    7.23e-05        8.94e-01        1.65e-02        1    \n",
      "13    6.44e-05        8.91e-01        2.29e-02        1    \n",
      "14    5.81e-05        9.02e-01        2.16e-02        1    \n",
      "15    5.30e-05        9.11e-01        1.50e-02        1    \n",
      "16    4.81e-05        9.08e-01        1.41e-02        1    \n",
      "17    4.44e-05        9.22e-01        1.80e-02        1    \n",
      "18    4.04e-05        9.11e-01        2.15e-02        1    \n",
      "19    1.72e-05        4.25e-01        5.11e-03        1    \n",
      "20    2.53e-06        1.47e-01        1.12e-02        1    \n",
      "21    1.91e-06        7.52e-01        1.82e-02        1    \n",
      "22    0.00e+00        0.00e+00        2.51e-03        0    \n",
      "------------------------------------------------------------------\n"
     ]
    },
    {
     "data": {
      "text/plain": [
       "Results of Time Iteration Algorithm\n",
       " * Complementarities: true\n",
       " * Discretized Process type: Dolo.DiscreteMarkovProcess\n",
       " * Decision Rule type: Dolo.CubicDR{Dolo.UnstructuredGrid{1},Dolo.CartesianGrid{1},2,1}\n",
       " * Number of iterations: 22\n",
       " * Convergence: true\n",
       "   * |x - x'| < 1.0e-07: true\n"
      ]
     },
     "execution_count": 16,
     "metadata": {},
     "output_type": "execute_result"
    }
   ],
   "source": [
    "\n",
    "Dolo.set_calibration!(model, :minl, -1.1)\n",
    "sol = Dolo.time_iteration(model, sol.dr, verbose=true)"
   ]
  },
  {
   "cell_type": "code",
   "execution_count": 18,
   "metadata": {},
   "outputs": [
    {
     "name": "stdout",
     "output_type": "stream",
     "text": [
      "------------------------------------------------------------------\n",
      "It    ηₙ=|xₙ-xₙ₋₁|    λₙ=ηₙ/ηₙ₋₁      Time            Newton steps\n",
      "------------------------------------------------------------------\n",
      "0     NaN             NaN             0.00e+00        0    \n",
      "1     0.00e+00        NaN             4.01e-02        0    \n",
      "------------------------------------------------------------------\n"
     ]
    },
    {
     "name": "stderr",
     "output_type": "stream",
     "text": [
      "\u001b[1m\u001b[33mWARNING: \u001b[39m\u001b[22m\u001b[33mfilter(flt, itr) is deprecated, use Iterators.filter(flt, itr) instead.\u001b[39m\n",
      "Stacktrace:\n",
      " [1] \u001b[1mdepwarn\u001b[22m\u001b[22m\u001b[1m(\u001b[22m\u001b[22m::String, ::Symbol\u001b[1m)\u001b[22m\u001b[22m at \u001b[1m./deprecated.jl:70\u001b[22m\u001b[22m\n",
      " [2] \u001b[1mfilter\u001b[22m\u001b[22m\u001b[1m(\u001b[22m\u001b[22m::Function, ::Base.Generator{UnitRange{Int64},Dolo.##65#67{Dolo.DiscreteMarkovProcess,Int64}}\u001b[1m)\u001b[22m\u001b[22m at \u001b[1m./deprecated.jl:57\u001b[22m\u001b[22m\n",
      " [3] \u001b[1mget_integration_nodes\u001b[22m\u001b[22m\u001b[1m(\u001b[22m\u001b[22m::Dolo.DiscreteMarkovProcess, ::Int64\u001b[1m)\u001b[22m\u001b[22m at \u001b[1m/home/ezgi/.julia/v0.6/Dolo/src/numeric/processes.jl:418\u001b[22m\u001b[22m\n",
      " [4] \u001b[1meuler_residuals\u001b[22m\u001b[22m\u001b[1m(\u001b[22m\u001b[22m::Dolo.Model{Symbol(\"##756\")}, ::Dolo.DiscreteMarkovProcess, ::Array{Float64,2}, ::Array{Array{Float64,2},1}, ::Array{Float64,1}, ::Dolo.CachedDecisionRule{Dolo.CubicDR{Dolo.UnstructuredGrid{1},Dolo.CartesianGrid{1},2,1},Dolo.DiscreteMarkovProcess}\u001b[1m)\u001b[22m\u001b[22m at \u001b[1m/home/ezgi/.julia/v0.6/Dolo/src/algos/time_iteration.jl:31\u001b[22m\u001b[22m\n",
      " [5] \u001b[1meuler_residuals\u001b[22m\u001b[22m\u001b[1m(\u001b[22m\u001b[22m::Dolo.Model{Symbol(\"##756\")}, ::Dolo.DiscreteMarkovProcess, ::Array{Float64,2}, ::Array{Float64,2}, ::Array{Float64,1}, ::Dolo.CachedDecisionRule{Dolo.CubicDR{Dolo.UnstructuredGrid{1},Dolo.CartesianGrid{1},2,1},Dolo.DiscreteMarkovProcess}\u001b[1m)\u001b[22m\u001b[22m at \u001b[1m/home/ezgi/.julia/v0.6/Dolo/src/algos/time_iteration.jl:44\u001b[22m\u001b[22m\n",
      " [6] \u001b[1m#serial_solver#21\u001b[22m\u001b[22m\u001b[1m(\u001b[22m\u001b[22m::Int64, ::Bool, ::Int64, ::Float64, ::Function, ::Dolo.#fobj#214{Dolo.Model{Symbol(\"##756\")},Dolo.DiscreteMarkovProcess}, ::Array{Float64,2}, ::Array{Float64,2}, ::Array{Float64,2}\u001b[1m)\u001b[22m\u001b[22m at \u001b[1m/home/ezgi/.julia/v0.6/Dolo/src/numeric/newton.jl:94\u001b[22m\u001b[22m\n",
      " [7] \u001b[1m#time_iteration#211\u001b[22m\u001b[22m\u001b[1m(\u001b[22m\u001b[22m::Bool, ::Int64, ::Float64, ::Bool, ::Dict{Any,Any}, ::Function, ::Dolo.Model{Symbol(\"##756\")}, ::Dolo.DiscreteMarkovProcess, ::Dolo.CartesianGrid{1}, ::Dolo.CubicDR{Dolo.UnstructuredGrid{1},Dolo.CartesianGrid{1},2,1}\u001b[1m)\u001b[22m\u001b[22m at \u001b[1m/home/ezgi/.julia/v0.6/Dolo/src/algos/time_iteration.jl:227\u001b[22m\u001b[22m\n",
      " [8] \u001b[1m(::Dolo.#kw##time_iteration)\u001b[22m\u001b[22m\u001b[1m(\u001b[22m\u001b[22m::Array{Any,1}, ::Dolo.#time_iteration, ::Dolo.Model{Symbol(\"##756\")}, ::Dolo.DiscreteMarkovProcess, ::Dolo.CartesianGrid{1}, ::Dolo.CubicDR{Dolo.UnstructuredGrid{1},Dolo.CartesianGrid{1},2,1}\u001b[1m)\u001b[22m\u001b[22m at \u001b[1m./<missing>:0\u001b[22m\u001b[22m\n",
      " [9] \u001b[1m#time_iteration#215\u001b[22m\u001b[22m\u001b[1m(\u001b[22m\u001b[22m::Dict{Any,Any}, ::Array{Any,1}, ::Function, ::Dolo.Model{Symbol(\"##756\")}, ::Dolo.DiscreteMarkovProcess, ::Dolo.CubicDR{Dolo.UnstructuredGrid{1},Dolo.CartesianGrid{1},2,1}\u001b[1m)\u001b[22m\u001b[22m at \u001b[1m/home/ezgi/.julia/v0.6/Dolo/src/algos/time_iteration.jl:256\u001b[22m\u001b[22m\n",
      " [10] \u001b[1m(::Dolo.#kw##time_iteration)\u001b[22m\u001b[22m\u001b[1m(\u001b[22m\u001b[22m::Array{Any,1}, ::Dolo.#time_iteration, ::Dolo.Model{Symbol(\"##756\")}, ::Dolo.DiscreteMarkovProcess, ::Dolo.CubicDR{Dolo.UnstructuredGrid{1},Dolo.CartesianGrid{1},2,1}\u001b[1m)\u001b[22m\u001b[22m at \u001b[1m./<missing>:0\u001b[22m\u001b[22m\n",
      " [11] \u001b[1m#time_iteration#217\u001b[22m\u001b[22m\u001b[1m(\u001b[22m\u001b[22m::Dict{Any,Any}, ::Array{Any,1}, ::Function, ::Dolo.Model{Symbol(\"##756\")}, ::Dolo.CubicDR{Dolo.UnstructuredGrid{1},Dolo.CartesianGrid{1},2,1}\u001b[1m)\u001b[22m\u001b[22m at \u001b[1m/home/ezgi/.julia/v0.6/Dolo/src/algos/time_iteration.jl:269\u001b[22m\u001b[22m\n",
      " [12] \u001b[1m(::Dolo.#kw##time_iteration)\u001b[22m\u001b[22m\u001b[1m(\u001b[22m\u001b[22m::Array{Any,1}, ::Dolo.#time_iteration, ::Dolo.Model{Symbol(\"##756\")}, ::Dolo.CubicDR{Dolo.UnstructuredGrid{1},Dolo.CartesianGrid{1},2,1}\u001b[1m)\u001b[22m\u001b[22m at \u001b[1m./<missing>:0\u001b[22m\u001b[22m\n",
      " [13] \u001b[1minclude_string\u001b[22m\u001b[22m\u001b[1m(\u001b[22m\u001b[22m::String, ::String\u001b[1m)\u001b[22m\u001b[22m at \u001b[1m./loading.jl:515\u001b[22m\u001b[22m\n",
      " [14] \u001b[1minclude_string\u001b[22m\u001b[22m\u001b[1m(\u001b[22m\u001b[22m::Module, ::String, ::String\u001b[1m)\u001b[22m\u001b[22m at \u001b[1m/home/ezgi/.julia/v0.6/Compat/src/Compat.jl:464\u001b[22m\u001b[22m\n",
      " [15] \u001b[1mexecute_request\u001b[22m\u001b[22m\u001b[1m(\u001b[22m\u001b[22m::ZMQ.Socket, ::IJulia.Msg\u001b[1m)\u001b[22m\u001b[22m at \u001b[1m/home/ezgi/.julia/v0.6/IJulia/src/execute_request.jl:154\u001b[22m\u001b[22m\n",
      " [16] \u001b[1meventloop\u001b[22m\u001b[22m\u001b[1m(\u001b[22m\u001b[22m::ZMQ.Socket\u001b[1m)\u001b[22m\u001b[22m at \u001b[1m/home/ezgi/.julia/v0.6/IJulia/src/eventloop.jl:8\u001b[22m\u001b[22m\n",
      " [17] \u001b[1m(::IJulia.##14#17)\u001b[22m\u001b[22m\u001b[1m(\u001b[22m\u001b[22m\u001b[1m)\u001b[22m\u001b[22m at \u001b[1m./task.jl:335\u001b[22m\u001b[22m\n",
      "while loading In[18], in expression starting on line 3\n"
     ]
    },
    {
     "data": {
      "text/plain": [
       "Results of Time Iteration Algorithm\n",
       " * Complementarities: true\n",
       " * Discretized Process type: Dolo.DiscreteMarkovProcess\n",
       " * Decision Rule type: Dolo.CubicDR{Dolo.UnstructuredGrid{1},Dolo.CartesianGrid{1},2,1}\n",
       " * Number of iterations: 1\n",
       " * Convergence: true\n",
       "   * |x - x'| < 1.0e-07: true\n"
      ]
     },
     "execution_count": 18,
     "metadata": {},
     "output_type": "execute_result"
    }
   ],
   "source": [
    "\n",
    "Dolo.set_calibration!(model, :minl, -1.15)\n",
    "sol = Dolo.time_iteration(model, sol.dr, verbose=true)"
   ]
  },
  {
   "cell_type": "code",
   "execution_count": 19,
   "metadata": {},
   "outputs": [
    {
     "name": "stdout",
     "output_type": "stream",
     "text": [
      "------------------------------------------------------------------\n",
      "It    ηₙ=|xₙ-xₙ₋₁|    λₙ=ηₙ/ηₙ₋₁      Time            Newton steps\n",
      "------------------------------------------------------------------\n",
      "0     NaN             NaN             0.00e+00        0    \n",
      "1     6.02e-03        NaN             7.09e-02        3    \n",
      "2"
     ]
    },
    {
     "name": "stderr",
     "output_type": "stream",
     "text": [
      "\u001b[1m\u001b[33mWARNING: \u001b[39m\u001b[22m\u001b[33mfilter(flt, itr) is deprecated, use Iterators.filter(flt, itr) instead.\u001b[39m\n",
      "Stacktrace:\n",
      " [1] \u001b[1mdepwarn\u001b[22m\u001b[22m\u001b[1m(\u001b[22m\u001b[22m::String, ::Symbol\u001b[1m)\u001b[22m\u001b[22m at \u001b[1m./deprecated.jl:70\u001b[22m\u001b[22m\n",
      " [2] \u001b[1mfilter\u001b[22m\u001b[22m\u001b[1m(\u001b[22m\u001b[22m::Function, ::Base.Generator{UnitRange{Int64},Dolo.##65#67{Dolo.DiscreteMarkovProcess,Int64}}\u001b[1m)\u001b[22m\u001b[22m at \u001b[1m./deprecated.jl:57\u001b[22m\u001b[22m\n",
      " [3] \u001b[1mget_integration_nodes\u001b[22m\u001b[22m\u001b[1m(\u001b[22m\u001b[22m::Dolo.DiscreteMarkovProcess, ::Int64\u001b[1m)\u001b[22m\u001b[22m at \u001b[1m/home/ezgi/.julia/v0.6/Dolo/src/numeric/processes.jl:418\u001b[22m\u001b[22m\n",
      " [4] \u001b[1meuler_residuals\u001b[22m\u001b[22m\u001b[1m(\u001b[22m\u001b[22m::Dolo.Model{Symbol(\"##756\")}, ::Dolo.DiscreteMarkovProcess, ::Array{Float64,2}, ::Array{Array{Float64,2},1}, ::Array{Float64,1}, ::Dolo.CachedDecisionRule{Dolo.CubicDR{Dolo.UnstructuredGrid{1},Dolo.CartesianGrid{1},2,1},Dolo.DiscreteMarkovProcess}\u001b[1m)\u001b[22m\u001b[22m at \u001b[1m/home/ezgi/.julia/v0.6/Dolo/src/algos/time_iteration.jl:31\u001b[22m\u001b[22m\n",
      " [5] \u001b[1meuler_residuals\u001b[22m\u001b[22m\u001b[1m(\u001b[22m\u001b[22m::Dolo.Model{Symbol(\"##756\")}, ::Dolo.DiscreteMarkovProcess, ::Array{Float64,2}, ::Array{Float64,2}, ::Array{Float64,1}, ::Dolo.CachedDecisionRule{Dolo.CubicDR{Dolo.UnstructuredGrid{1},Dolo.CartesianGrid{1},2,1},Dolo.DiscreteMarkovProcess}\u001b[1m)\u001b[22m\u001b[22m at \u001b[1m/home/ezgi/.julia/v0.6/Dolo/src/algos/time_iteration.jl:44\u001b[22m\u001b[22m\n",
      " [6] \u001b[1m#serial_solver#21\u001b[22m\u001b[22m\u001b[1m(\u001b[22m\u001b[22m::Int64, ::Bool, ::Int64, ::Float64, ::Function, ::Dolo.#fobj#214{Dolo.Model{Symbol(\"##756\")},Dolo.DiscreteMarkovProcess}, ::Array{Float64,2}, ::Array{Float64,2}, ::Array{Float64,2}\u001b[1m)\u001b[22m\u001b[22m at \u001b[1m/home/ezgi/.julia/v0.6/Dolo/src/numeric/newton.jl:94\u001b[22m\u001b[22m\n",
      " [7] \u001b[1m#time_iteration#211\u001b[22m\u001b[22m\u001b[1m(\u001b[22m\u001b[22m::Bool, ::Int64, ::Float64, ::Bool, ::Dict{Any,Any}, ::Function, ::Dolo.Model{Symbol(\"##756\")}, ::Dolo.DiscreteMarkovProcess, ::Dolo.CartesianGrid{1}, ::Dolo.CubicDR{Dolo.UnstructuredGrid{1},Dolo.CartesianGrid{1},2,1}\u001b[1m)\u001b[22m\u001b[22m at \u001b[1m/home/ezgi/.julia/v0.6/Dolo/src/algos/time_iteration.jl:227\u001b[22m\u001b[22m\n",
      " [8] \u001b[1m(::Dolo.#kw##time_iteration)\u001b[22m\u001b[22m\u001b[1m(\u001b[22m\u001b[22m::Array{Any,1}, ::Dolo.#time_iteration, ::Dolo.Model{Symbol(\"##756\")}, ::Dolo.DiscreteMarkovProcess, ::Dolo.CartesianGrid{1}, ::Dolo.CubicDR{Dolo.UnstructuredGrid{1},Dolo.CartesianGrid{1},2,1}\u001b[1m)\u001b[22m\u001b[22m at \u001b[1m./<missing>:0\u001b[22m\u001b[22m\n",
      " [9] \u001b[1m#time_iteration#215\u001b[22m\u001b[22m\u001b[1m(\u001b[22m\u001b[22m::Dict{Any,Any}, ::Array{Any,1}, ::Function, ::Dolo.Model{Symbol(\"##756\")}, ::Dolo.DiscreteMarkovProcess, ::Dolo.CubicDR{Dolo.UnstructuredGrid{1},Dolo.CartesianGrid{1},2,1}\u001b[1m)\u001b[22m\u001b[22m at \u001b[1m/home/ezgi/.julia/v0.6/Dolo/src/algos/time_iteration.jl:256\u001b[22m\u001b[22m\n",
      " [10] \u001b[1m(::Dolo.#kw##time_iteration)\u001b[22m\u001b[22m\u001b[1m(\u001b[22m\u001b[22m::Array{Any,1}, ::Dolo.#time_iteration, ::Dolo.Model{Symbol(\"##756\")}, ::Dolo.DiscreteMarkovProcess, ::Dolo.CubicDR{Dolo.UnstructuredGrid{1},Dolo.CartesianGrid{1},2,1}\u001b[1m)\u001b[22m\u001b[22m at \u001b[1m./<missing>:0\u001b[22m\u001b[22m\n",
      " [11] \u001b[1m#time_iteration#217\u001b[22m\u001b[22m\u001b[1m(\u001b[22m\u001b[22m::Dict{Any,Any}, ::Array{Any,1}, ::Function, ::Dolo.Model{Symbol(\"##756\")}, ::Dolo.CubicDR{Dolo.UnstructuredGrid{1},Dolo.CartesianGrid{1},2,1}\u001b[1m)\u001b[22m\u001b[22m at \u001b[1m/home/ezgi/.julia/v0.6/Dolo/src/algos/time_iteration.jl:269\u001b[22m\u001b[22m\n",
      " [12] \u001b[1m(::Dolo.#kw##time_iteration)\u001b[22m\u001b[22m\u001b[1m(\u001b[22m\u001b[22m::Array{Any,1}, ::Dolo.#time_iteration, ::Dolo.Model{Symbol(\"##756\")}, ::Dolo.CubicDR{Dolo.UnstructuredGrid{1},Dolo.CartesianGrid{1},2,1}\u001b[1m)\u001b[22m\u001b[22m at \u001b[1m./<missing>:0\u001b[22m\u001b[22m\n",
      " [13] \u001b[1minclude_string\u001b[22m\u001b[22m\u001b[1m(\u001b[22m\u001b[22m::String, ::String\u001b[1m)\u001b[22m\u001b[22m at \u001b[1m./loading.jl:515\u001b[22m\u001b[22m\n",
      " [14] \u001b[1minclude_string\u001b[22m\u001b[22m\u001b[1m(\u001b[22m\u001b[22m::Module, ::String, ::String\u001b[1m)\u001b[22m\u001b[22m at \u001b[1m/home/ezgi/.julia/v0.6/Compat/src/Compat.jl:464\u001b[22m\u001b[22m\n",
      " [15] \u001b[1mexecute_request\u001b[22m\u001b[22m\u001b[1m(\u001b[22m\u001b[22m::ZMQ.Socket, ::IJulia.Msg\u001b[1m)\u001b[22m\u001b[22m at \u001b[1m/home/ezgi/.julia/v0.6/IJulia/src/execute_request.jl:154\u001b[22m\u001b[22m\n",
      " [16] \u001b[1meventloop\u001b[22m\u001b[22m\u001b[1m(\u001b[22m\u001b[22m::ZMQ.Socket\u001b[1m)\u001b[22m\u001b[22m at \u001b[1m/home/ezgi/.julia/v0.6/IJulia/src/eventloop.jl:8\u001b[22m\u001b[22m\n",
      " [17] \u001b[1m(::IJulia.##14#17)\u001b[22m\u001b[22m\u001b[1m(\u001b[22m\u001b[22m\u001b[1m)\u001b[22m\u001b[22m at \u001b[1m./task.jl:335\u001b[22m\u001b[22m\n",
      "while loading In[19], in expression starting on line 2\n"
     ]
    },
    {
     "name": "stdout",
     "output_type": "stream",
     "text": [
      "     1.05e-03        1.74e-01        3.71e-02        3    \n",
      "3     6.50e-04        6.21e-01        1.91e-02        2    \n",
      "4     4.33e-04        6.66e-01        2.88e-02        2    \n",
      "5     3.20e-04        7.39e-01        1.74e-02        2    \n",
      "6     2.55e-04        7.97e-01        1.99e-02        1    \n",
      "7     2.06e-04        8.08e-01        1.47e-02        1    \n",
      "8     1.73e-04        8.39e-01        1.64e-02        1    \n",
      "9     1.46e-04        8.43e-01        1.66e-02        1    \n",
      "10    1.27e-04        8.69e-01        3.12e-02        1    \n",
      "11    1.12e-04        8.82e-01        6.91e-03        1    \n",
      "12    9.96e-05        8.90e-01        6.28e-03        1    \n",
      "13    8.86e-05        8.90e-01        5.33e-03        1    \n",
      "14    8.07e-05        9.11e-01        5.04e-03        1    \n",
      "15    7.34e-05        9.09e-01        5.99e-03        1    \n",
      "16    6.66e-05        9.07e-01        5.03e-03        1    \n",
      "17    6.16e-05        9.25e-01        7.97e-03        1    \n",
      "18    5.62e-05        9.12e-01        6.62e-03        1    \n",
      "19    1.96e-05        3.48e-01        1.46e-02        1    \n",
      "20    2.17e-06        1.11e-01        1.84e-02        1    \n",
      "21    1.70e-06        7.82e-01        5.91e-03        1    \n",
      "22    0.00e+00        0.00e+00        1.46e-03        0    \n",
      "------------------------------------------------------------------\n"
     ]
    },
    {
     "data": {
      "text/plain": [
       "Results of Time Iteration Algorithm\n",
       " * Complementarities: true\n",
       " * Discretized Process type: Dolo.DiscreteMarkovProcess\n",
       " * Decision Rule type: Dolo.CubicDR{Dolo.UnstructuredGrid{1},Dolo.CartesianGrid{1},2,1}\n",
       " * Number of iterations: 22\n",
       " * Convergence: true\n",
       "   * |x - x'| < 1.0e-07: true\n"
      ]
     },
     "execution_count": 19,
     "metadata": {},
     "output_type": "execute_result"
    }
   ],
   "source": [
    "Dolo.set_calibration!(model, :minl, -1.20)\n",
    "sol = Dolo.time_iteration(model, sol.dr, verbose=true)"
   ]
  },
  {
   "cell_type": "markdown",
   "metadata": {},
   "source": [
    "## Plotting the policy function\n"
   ]
  },
  {
   "cell_type": "markdown",
   "metadata": {},
   "source": [
    "To plot a decision rule we are using a ${\\color{blue}{Dolo.tabulate}}$ function which simulates the variables of the model for a given (provided) state. In the sake of comparability analysis, we are plotting the decision corresponding to the MC case corresponding to the low and high states of endowment."
   ]
  },
  {
   "cell_type": "code",
   "execution_count": 26,
   "metadata": {},
   "outputs": [
    {
     "data": {
      "image/png": "[encoded data removed]",
      "text/plain": [
       "PyPlot.Figure(PyObject <matplotlib.figure.Figure object at 0x7fc131e15e48>)"
      ]
     },
     "metadata": {},
     "output_type": "display_data"
    }
   ],
   "source": [
    "# Simulating a decision rule for MC-discretization case\n",
    "dr = sol.dr\n",
    "s0 = model.calibration[:states]\n",
    "index = findfirst(model.symbols[:states],:l)\n",
    "\n",
    "# Define the bounds for your states variable\n",
    "bounds = [dr.grid_endo.min[index], dr.grid_endo.max[index]]\n",
    "\n",
    "df_mc1 = Dolo.tabulate(model, dr, :l, s0, 1)\n",
    "df_mc2 = Dolo.tabulate(model, dr, :l, s0, 2)\n",
    "\n",
    "hor= linspace(1, T, T)\n",
    "\n",
    "fig = plt.figure(\"Competitive Equilibrium\")\n",
    "\n",
    "plt.plot(df_mc1[:l], df_mc2[Axis{:V}(:b)], color=\"blue\", alpha = .5, label=\"High state of y\")\n",
    "plt.plot(df_mc2[:l], df_mc1[Axis{:V}(:b)], color=\"red\", linestyle=\"dashed\", alpha = .5, label=\"Low state of y\")\n",
    "\n",
    "plt.plot(df_mc2[:l], df_mc2[:l], color=\"black\", linestyle=\"dashed\", alpha = .2)\n",
    "\n",
    "#plt.ylim((bounds[1],bounds[2]))\n",
    "plt.xlim((bounds[1],bounds[2]))\n",
    "\n",
    "plt.xlabel(\"Bond holdings\");\n",
    "plt.legend()\n",
    "plt.ylabel(\"The desicion rule (Next period holdings)\");\n",
    "plt.title(\"Decision rule for Sudden Stop - Exchange rate model\");"
   ]
  },
  {
   "cell_type": "markdown",
   "metadata": {},
   "source": [
    "## Simulating the model"
   ]
  },
  {
   "cell_type": "markdown",
   "metadata": {
    "collapsed": true
   },
   "source": [
    "tbd"
   ]
  }
 ],
 "metadata": {
  "kernelspec": {
   "display_name": "Julia 0.6.0",
   "language": "julia",
   "name": "julia-0.6"
  },
  "language_info": {
   "file_extension": ".jl",
   "mimetype": "application/julia",
   "name": "julia",
   "version": "0.6.0"
  }
 },
 "nbformat": 4,
 "nbformat_minor": 2
}
